{
 "cells": [
  {
   "cell_type": "code",
   "execution_count": 1,
   "id": "b963aae9-60ad-460e-a19b-f4eb7b9bf032",
   "metadata": {},
   "outputs": [],
   "source": [
    "import re\n",
    "import json"
   ]
  },
  {
   "cell_type": "code",
   "execution_count": 2,
   "id": "c55b902b-62ef-4749-bc2f-d9e06ef349da",
   "metadata": {},
   "outputs": [],
   "source": [
    "json_pattern = re.compile(r'\\{.*\\}')\n",
    "invalid_json_pattern = re.compile(r'Invalid JSON: (?P<json>\\{.*\\})')"
   ]
  },
  {
   "cell_type": "code",
   "execution_count": 3,
   "id": "bbe3fe06-fa0f-4999-a316-8af4c719c619",
   "metadata": {},
   "outputs": [],
   "source": [
    "def parseLog(file_path):\n",
    "    extracted_data = []\n",
    "    with open(file_path, 'r') as log_file:\n",
    "        for line in log_file:\n",
    "            # Check for regular JSON\n",
    "            match = json_pattern.search(line)\n",
    "            if match:\n",
    "                try:\n",
    "                    json_data = json.loads(match.group())\n",
    "                    extracted_data.append({\"type\": \"Valid\", \"data\": json_data})\n",
    "                except json.JSONDecodeError:\n",
    "                    print(f\"Failed to parse JSON: {match.group()}\")\n",
    "            \n",
    "            # Check for \"Invalid JSON\"\n",
    "            invalid_match = invalid_json_pattern.search(line)\n",
    "            if invalid_match:\n",
    "                try:\n",
    "                    json_data = json.loads(invalid_match.group('json'))\n",
    "                    extracted_data.append({\"type\": \"Invalid\", \"data\": json_data})\n",
    "                except json.JSONDecodeError:\n",
    "                    print(f\"Failed to parse Invalid JSON: {invalid_match.group('json')}\")\n",
    "    return extracted_data"
   ]
  },
  {
   "cell_type": "code",
   "execution_count": null,
   "id": "19f0035c-0554-4d19-a7c2-8dc707517273",
   "metadata": {},
   "outputs": [],
   "source": [
    "log_file_path = \"\"\n",
    "parsed_data = parseLog(log_file_path)\n",
    "output_path = \"\""
   ]
  },
  {
   "cell_type": "code",
   "execution_count": null,
   "id": "d7586aa9-2b66-4097-8200-2b07427565d1",
   "metadata": {},
   "outputs": [],
   "source": [
    "with open(output_path, 'w') as json_file:\n",
    "    json.dump(parsed_data, json_file, indent=4)\n",
    "print(f\"Parsed data saved to {output_path}\")"
   ]
  },
  {
   "cell_type": "code",
   "execution_count": null,
   "id": "3d3d44b0-9422-4a5b-9ea7-aaab8a7be871",
   "metadata": {},
   "outputs": [],
   "source": []
  }
 ],
 "metadata": {
  "kernelspec": {
   "display_name": "Python 3 (ipykernel)",
   "language": "python",
   "name": "python3"
  },
  "language_info": {
   "codemirror_mode": {
    "name": "ipython",
    "version": 3
   },
   "file_extension": ".py",
   "mimetype": "text/x-python",
   "name": "python",
   "nbconvert_exporter": "python",
   "pygments_lexer": "ipython3",
   "version": "3.10.12"
  }
 },
 "nbformat": 4,
 "nbformat_minor": 5
}
