{
 "cells": [
  {
   "cell_type": "code",
   "execution_count": null,
   "id": "c9300adf-f6a2-41fa-8882-801893562389",
   "metadata": {
    "collapsed": true,
    "jupyter": {
     "outputs_hidden": true
    }
   },
   "outputs": [],
   "source": [
    "!pip install pandas pyproj"
   ]
  },
  {
   "cell_type": "code",
   "execution_count": null,
   "id": "549f2c59-d3de-48ab-89d9-a0f4da4a14fd",
   "metadata": {},
   "outputs": [],
   "source": [
    "import pandas as pd\n",
    "\n",
    "df = pd.read_csv('')\n",
    "\n",
    "# Extract the position columns\n",
    "positions = df[['position.x', 'position.y', 'position.z']]"
   ]
  },
  {
   "cell_type": "code",
   "execution_count": 3,
   "id": "a4d291e8-4c4b-4636-b893-06762d606d19",
   "metadata": {},
   "outputs": [],
   "source": [
    "from pyproj import CRS, Transformer\n",
    "\n",
    "# Define the source CRS (Coordinate Reference System) using EPSG code 4978, which represents the Geocentric Coordinate System (WGS84).\n",
    "source_crs = CRS.from_epsg(4978)\n",
    "\n",
    "# Define the target CRS using EPSG code 4326, which represents the Geographic Coordinate System (WGS84).\n",
    "target_crs = CRS.from_epsg(4326)  # WGS84\n",
    "\n",
    "# Create a transformer object that will be used to transform coordinates from the source CRS to the target CRS.\n",
    "transformer = Transformer.from_crs(source_crs, target_crs)\n",
    "\n",
    "converted_positions = []\n",
    "for x, y, z in zip(positions['position.x'], positions['position.y'], positions['position.z']):\n",
    "    # Use the transformer object to convert the x, y, z coordinates from the source CRS to the target CRS.\n",
    "    # The transform method returns the latitude, longitude, and height (elevation) in the target CRS.\n",
    "    lat, lon, height = transformer.transform(x, y, z)\n",
    "    \n",
    "    # Append the converted position\n",
    "    converted_positions.append([lat, lon, height])\n",
    "\n",
    "# Convert the list of tuples to a DataFrame\n",
    "converted_df = pd.DataFrame(converted_positions, columns=['latitude', 'longitude', 'elevation'])\n",
    "\n",
    "converted_df.to_csv('GDC_Coords_CyberSim.csv', index=False)"
   ]
  },
  {
   "cell_type": "code",
   "execution_count": null,
   "id": "209f718d-af76-490f-9259-cf7a7d54bfbe",
   "metadata": {},
   "outputs": [],
   "source": [
    "df1 = pd.read_csv('')\n",
    "df2 = pd.read_csv('')\n",
    " \n",
    "df2['Latitude'] = df1['latitude'] \n",
    "df2['Longitude'] = df1['longitude'] \n",
    "df2['Elevation'] = df1['elevation'] \n",
    " \n",
    "df2.to_csv('', index=False) "
   ]
  }
 ],
 "metadata": {
  "kernelspec": {
   "display_name": "Python 3 (ipykernel)",
   "language": "python",
   "name": "python3"
  },
  "language_info": {
   "codemirror_mode": {
    "name": "ipython",
    "version": 3
   },
   "file_extension": ".py",
   "mimetype": "text/x-python",
   "name": "python",
   "nbconvert_exporter": "python",
   "pygments_lexer": "ipython3",
   "version": "3.10.12"
  }
 },
 "nbformat": 4,
 "nbformat_minor": 5
}
